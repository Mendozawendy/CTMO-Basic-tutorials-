{
 "cells": [
  {
   "cell_type": "code",
   "execution_count": 84,
   "metadata": {},
   "outputs": [],
   "source": [
    "import numpy as np\n",
    "from astropy.io import fits\n",
    "from astropy.stats import sigma_clipped_stats\n",
    "from photutils import aperture_photometry, CircularAperture, CircularAnnulus\n",
    "from astropy.wcs import WCS\n",
    "import glob\n",
    "\n"
   ]
  },
  {
   "cell_type": "code",
   "execution_count": 85,
   "metadata": {},
   "outputs": [],
   "source": [
    "# Define the directory containing the FITS files\n",
    "file_names = glob.glob('/Users/wendymendoza/Desktop/Yan/2023-03-16/*.fits')\n",
    "if not file_names:\n",
    "    print(\"No files found in the specified directory.\")\n",
    "else:\n",
    "    # Process each FITS file\n",
    "    for file_name in file_names:\n",
    "        with fits.open(file_name) as hdul:\n",
    "            header = hdul[0].header\n",
    "            data = hdul[0].data\n"
   ]
  },
  {
   "cell_type": "code",
   "execution_count": 86,
   "metadata": {},
   "outputs": [],
   "source": [
    "# Define the target's and reference stars' coordinates (RA, Dec) as tuples\n",
    "# Example: (RA, Dec)\n",
    "target_coordinates = (123.456, -12.345)\n",
    "reference_coordinates = [(124.567, -13.456), (125.678, -14.567), (126.789, -15.678)]\n",
    "\n",
    "# Convert RA and Dec to pixel coordinates\n",
    "target_x, target_y = wcs.all_world2pix(target_coordinates[0], target_coordinates[1], 1)\n",
    "reference_coords_pixel = [wcs.all_world2pix(ra, dec, 1) for ra, dec in reference_coordinates]\n",
    "\n",
    "# Round the pixel coordinates to integers\n",
    "target_x, target_y = int(round(float(target_x))), int(round(float(target_y)))\n",
    "reference_coords_pixel = [(int(round(float(x))), int(round(float(y)))) for x, y in reference_coords_pixel]\n",
    "\n",
    "# Create the aperture and annulus objects for the target and reference stars\n",
    "apertures = [CircularAperture(coord, r=r_aperture) for coord in [(target_x, target_y)] + reference_coords_pixel]\n",
    "annulus = CircularAnnulus((target_x, target_y), r_in=r_in, r_out=r_out)\n",
    "\n",
    "# ... continue with your processing code\n"
   ]
  },
  {
   "cell_type": "code",
   "execution_count": 99,
   "metadata": {},
   "outputs": [],
   "source": [
    "# Define the target's coordinates (x, y) and the aperture/annulus radii\n",
    "r_aperture = 5\n",
    "r_in, r_out = 10, 15\n"
   ]
  },
  {
   "cell_type": "code",
   "execution_count": 94,
   "metadata": {},
   "outputs": [],
   "source": [
    "# Initialize lists to store time and flux values for the light curve\n",
    "time_values = []\n",
    "flux_values = []"
   ]
  },
  {
   "cell_type": "code",
   "execution_count": 102,
   "metadata": {},
   "outputs": [
    {
     "ename": "TypeError",
     "evalue": "'NoneType' object is not subscriptable",
     "output_type": "error",
     "traceback": [
      "\u001b[0;31m---------------------------------------------------------------------------\u001b[0m",
      "\u001b[0;31mTypeError\u001b[0m                                 Traceback (most recent call last)",
      "\u001b[1;32m/Users/wendymendoza/Desktop/photometry.ipynb Cell 6\u001b[0m in \u001b[0;36m<cell line: 1>\u001b[0;34m()\u001b[0m\n\u001b[1;32m     <a href='vscode-notebook-cell:/Users/wendymendoza/Desktop/photometry.ipynb#ch0000027?line=9'>10</a>\u001b[0m \u001b[39m# Corrected code:\u001b[39;00m\n\u001b[1;32m     <a href='vscode-notebook-cell:/Users/wendymendoza/Desktop/photometry.ipynb#ch0000027?line=10'>11</a>\u001b[0m annulus_data \u001b[39m=\u001b[39m annulus_mask\u001b[39m.\u001b[39mmultiply(data, fill_value\u001b[39m=\u001b[39m\u001b[39m0\u001b[39m)\n\u001b[0;32m---> <a href='vscode-notebook-cell:/Users/wendymendoza/Desktop/photometry.ipynb#ch0000027?line=11'>12</a>\u001b[0m annulus_data_1d \u001b[39m=\u001b[39m annulus_data[annulus_mask\u001b[39m.\u001b[39;49mdata \u001b[39m>\u001b[39;49m \u001b[39m0\u001b[39;49m]\n\u001b[1;32m     <a href='vscode-notebook-cell:/Users/wendymendoza/Desktop/photometry.ipynb#ch0000027?line=12'>13</a>\u001b[0m \u001b[39m# End of corrected code\u001b[39;00m\n\u001b[1;32m     <a href='vscode-notebook-cell:/Users/wendymendoza/Desktop/photometry.ipynb#ch0000027?line=14'>15</a>\u001b[0m _, median_sigclip, _ \u001b[39m=\u001b[39m sigma_clipped_stats(annulus_data_1d)\n",
      "\u001b[0;31mTypeError\u001b[0m: 'NoneType' object is not subscriptable"
     ]
    }
   ],
   "source": [
    "for file_name in file_names:\n",
    "    with fits.open(file_name) as hdul:\n",
    "        header = hdul[0].header\n",
    "        data = hdul[0].data\n",
    "        time = header['DATE-OBS']\n",
    "\n",
    "        # Calculate the background level using the annulus\n",
    "        annulus_mask = annulus.to_mask(method='center')\n",
    "        \n",
    "        # Corrected code:\n",
    "        annulus_data = annulus_mask.multiply(data, fill_value=0)\n",
    "        annulus_data_1d = annulus_data[annulus_mask.data > 0]\n",
    "        # End of corrected code\n",
    "\n",
    "        _, median_sigclip, _ = sigma_clipped_stats(annulus_data_1d)\n",
    "\n",
    "        # Perform aperture photometry\n",
    "        phot = aperture_photometry(data, aperture)\n",
    "        phot['annulus_median'] = median_sigclip\n",
    "        phot['aper_bkg'] = median_sigclip * aperture.area\n",
    "        phot['aper_sum_bkgsub'] = phot['aperture_sum'] - phot['aper_bkg']\n",
    "        # Store the time and flux values\n",
    "        time_values.append(time)\n",
    "        flux_values.append(phot['aper_sum_bkgsub'][0])\n",
    "\n",
    "# Normalize the flux values\n",
    "flux_values = np.array(flux_values, dtype=float)\n",
    "flux_values /= np.median(flux_values)\n",
    "\n",
    "# Create the light curve plot\n",
    "plt.figure(figsize=(10, 6))\n",
    "plt.plot(time_values, flux_values, 'o-', markersize=4)\n",
    "plt.xlabel('Time')\n",
    "plt.ylabel('Normalized Flux')\n",
    "plt.title('Light Curve')\n",
    "plt.show()\n"
   ]
  },
  {
   "cell_type": "markdown",
   "metadata": {},
   "source": [
    "SINGLE FITS FILE"
   ]
  },
  {
   "cell_type": "code",
   "execution_count": 31,
   "metadata": {},
   "outputs": [],
   "source": [
    "import numpy as np\n",
    "from astropy.io import fits\n",
    "from astropy.stats import sigma_clipped_stats\n",
    "from photutils import aperture_photometry, CircularAperture, CircularAnnulus\n",
    "from astropy.wcs import WCS\n"
   ]
  },
  {
   "cell_type": "code",
   "execution_count": 30,
   "metadata": {},
   "outputs": [],
   "source": [
    "# Open the FITS file\n",
    "file_name = '/Users/wendymendoza/Desktop/Yan/2023-03-16/stacked_5.fits'\n",
    "with fits.open(file_name) as hdul:\n",
    "    header = hdul[0].header\n",
    "    data = hdul[0].data"
   ]
  },
  {
   "cell_type": "code",
   "execution_count": 32,
   "metadata": {},
   "outputs": [
    {
     "name": "stderr",
     "output_type": "stream",
     "text": [
      "WARNING: FITSFixedWarning: 'datfix' made the change 'Set MJD-OBS to 60020.150544 from DATE-OBS'. [astropy.wcs.wcs]\n"
     ]
    }
   ],
   "source": [
    "# Assuming you have the header of your FITS file\n",
    "header = hdul[0].header\n",
    "\n",
    "# Create a WCS object using the header information\n",
    "wcs = WCS(header)\n",
    "\n",
    "# Define the target's RA and Dec (in degrees)\n",
    "ra, dec = 152.9324407, 57.3038326  # Replace these with the actual RA and Dec\n"
   ]
  },
  {
   "cell_type": "code",
   "execution_count": 34,
   "metadata": {},
   "outputs": [],
   "source": [
    "# Convert RA and Dec to pixel coordinates\n",
    "x, y = wcs.all_world2pix(ra, dec, 1)  # 1 is for the origin (FITS-like)\n",
    "\n",
    "# Convert numpy arrays to float and round the pixel coordinates to integers\n",
    "x, y = int(round(float(x))), int(round(float(y)))\n"
   ]
  },
  {
   "cell_type": "code",
   "execution_count": 35,
   "metadata": {},
   "outputs": [],
   "source": [
    "# Define the target's coordinates (x, y) and the aperture/annulus radii\n",
    "r_aperture = 5\n",
    "r_in, r_out = 10, 15\n"
   ]
  },
  {
   "cell_type": "code",
   "execution_count": 36,
   "metadata": {},
   "outputs": [],
   "source": [
    "# Create the aperture and annulus objects\n",
    "aperture = CircularAperture((x, y), r=r_aperture)\n",
    "annulus = CircularAnnulus((x, y), r_in=r_in, r_out=r_out)"
   ]
  },
  {
   "cell_type": "code",
   "execution_count": 37,
   "metadata": {},
   "outputs": [
    {
     "name": "stdout",
     "output_type": "stream",
     "text": [
      " aper_sum_bkgsub  \n",
      "------------------\n",
      "-20.59005106832774\n"
     ]
    }
   ],
   "source": [
    "# Calculate the background level using the annulus\n",
    "annulus_masks = annulus.to_mask(method='center')\n",
    "annulus_data = annulus_masks.multiply(data)\n",
    "annulus_data_1d = annulus_data[annulus_masks.data > 0]\n",
    "_, median_sigclip, _ = sigma_clipped_stats(annulus_data_1d)\n",
    "\n",
    "# Perform aperture photometry\n",
    "phot = aperture_photometry(data, aperture)\n",
    "phot['annulus_median'] = median_sigclip\n",
    "phot['aper_bkg'] = median_sigclip * aperture.area\n",
    "phot['aper_sum_bkgsub'] = phot['aperture_sum'] - phot['aper_bkg']\n",
    "\n",
    "# Print the results\n",
    "print(phot['aper_sum_bkgsub']) "
   ]
  }
 ],
 "metadata": {
  "kernelspec": {
   "display_name": "Python 3.10.5 64-bit",
   "language": "python",
   "name": "python3"
  },
  "language_info": {
   "codemirror_mode": {
    "name": "ipython",
    "version": 3
   },
   "file_extension": ".py",
   "mimetype": "text/x-python",
   "name": "python",
   "nbconvert_exporter": "python",
   "pygments_lexer": "ipython3",
   "version": "3.10.5"
  },
  "orig_nbformat": 4,
  "vscode": {
   "interpreter": {
    "hash": "aee8b7b246df8f9039afb4144a1f6fd8d2ca17a180786b69acc140d282b71a49"
   }
  }
 },
 "nbformat": 4,
 "nbformat_minor": 2
}
