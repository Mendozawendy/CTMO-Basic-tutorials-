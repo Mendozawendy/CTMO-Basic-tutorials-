{
 "cells": [
  {
   "cell_type": "code",
   "execution_count": 16,
   "metadata": {},
   "outputs": [],
   "source": [
    "import os\n",
    "import glob\n",
    "import numpy as np\n",
    "import matplotlib.pyplot as plt\n",
    "from astropy.io import fits\n",
    "from astropy.stats import sigma_clipped_stats\n",
    "from astropy.time import Time\n",
    "from astropy.wcs import WCS\n",
    "from astropy.coordinates import SkyCoord\n",
    "from photutils import aperture_photometry, CircularAperture, CircularAnnulus\n",
    "\n"
   ]
  },
  {
   "cell_type": "code",
   "execution_count": 15,
   "metadata": {},
   "outputs": [],
   "source": [
    "# Replace with the path to your FITS files directory\n",
    "fits_directory = '/Users/wendymendoza/Desktop/Yan/2023-03-16'"
   ]
  },
  {
   "cell_type": "code",
   "execution_count": 17,
   "metadata": {},
   "outputs": [],
   "source": [
    "# Coordinates of your target object and reference stars\n",
    "target_coords = (2105.4637, 1745.8571)\n",
    "reference_coords_list = [(1738.4472, 1928.3894), (1830.7047, 2965.5023)]"
   ]
  },
  {
   "cell_type": "markdown",
   "metadata": {},
   "source": []
  },
  {
   "cell_type": "code",
   "execution_count": 18,
   "metadata": {},
   "outputs": [],
   "source": [
    "# Get a list of FITS files\n",
    "fits_files = sorted(glob.glob(os.path.join(fits_directory, '*.fits')))\n"
   ]
  },
  {
   "cell_type": "code",
   "execution_count": 19,
   "metadata": {},
   "outputs": [],
   "source": [
    "# Aperture and annulus radii for photometry\n",
    "aperture_radius = 16\n",
    "annulus_inner_radius = 28\n",
    "annulus_outer_radius = 41 \n",
    "\n",
    "time_array = []\n",
    "flux_ratio_array = []"
   ]
  },
  {
   "cell_type": "code",
   "execution_count": 20,
   "metadata": {},
   "outputs": [
    {
     "data": {
      "image/png": "[encoded data removed]",
      "text/plain": [
       "<Figure size 432x288 with 1 Axes>"
      ]
     },
     "metadata": {
      "needs_background": "light"
     },
     "output_type": "display_data"
    }
   ],
   "source": [
    "for file in fits_files:\n",
    "    with fits.open(file) as hdulist:\n",
    "        header = hdulist[0].header\n",
    "        data = hdulist[0].data.astype(float)\n",
    "\n",
    "        # Subtract the background\n",
    "        mean, median, std = sigma_clipped_stats(data, sigma=3.0)\n",
    "        data -= median\n",
    "\n",
    "        # Define the target apertures and annuli\n",
    "        target_aperture = CircularAperture(target_coords, r=aperture_radius)\n",
    "        target_annulus = CircularAnnulus(target_coords, r_in=annulus_inner_radius, r_out=annulus_outer_radius)\n",
    "\n",
    "        # Perform aperture photometry for the target object\n",
    "        target_phot = aperture_photometry(data, [target_aperture, target_annulus])\n",
    "\n",
    "        # Calculate the background-subtracted flux for the target object\n",
    "        target_bkg_mean = target_phot['aperture_sum_1'] / target_annulus.area\n",
    "        target_flux = target_phot['aperture_sum_0'] - target_bkg_mean * target_aperture.area\n",
    "\n",
    "        # Calculate the magnitude difference for each reference star\n",
    "        mag_diff_list = []\n",
    "\n",
    "        for ref_coords in reference_coords_list:\n",
    "            # Define the reference star apertures and annuli\n",
    "            ref_aperture = CircularAperture(ref_coords, r=aperture_radius)\n",
    "            ref_annulus = CircularAnnulus(ref_coords, r_in=annulus_inner_radius, r_out=annulus_outer_radius)\n",
    "\n",
    "            # Perform aperture photometry for the reference star\n",
    "            ref_phot = aperture_photometry(data, [ref_aperture, ref_annulus])\n",
    "\n",
    "            # Calculate the background-subtracted flux for the reference star\n",
    "            ref_bkg_mean = ref_phot['aperture_sum_1'] / ref_annulus.area\n",
    "            ref_flux = ref_phot['aperture_sum_0'] - ref_bkg_mean * ref_aperture.area\n",
    "\n",
    "            # Calculate the magnitude difference\n",
    "            mag_diff = -2.5 * np.log10(target_flux / ref_flux)\n",
    "            mag_diff_list.append(mag_diff)\n",
    "\n",
    "        # Calculate the average magnitude difference\n",
    "        avg_mag_diff = np.mean(mag_diff_list)\n",
    "\n",
    "        # Store the time and average magnitude difference\n",
    "        time_array.append(Time(header['DATE-OBS']).jd)\n",
    "        flux_ratio_array.append(avg_mag_diff)\n",
    "\n",
    "# Normalize the time array\n",
    "time_array = np.array(time_array) - min(time_array)\n",
    "\n",
    "# Plot the light curve\n",
    "plt.figure()\n",
    "plt.plot(time_array, flux_ratio_array, 'o') \n",
    "plt.xlabel('Time (JD - JD_min)')\n",
    "plt.ylabel('Magnitude Difference')\n",
    "plt.gca().invert_yaxis()\n",
    "plt.show()"
   ]
  }
 ],
 "metadata": {
  "kernelspec": {
   "display_name": "Python 3.10.5 64-bit",
   "language": "python",
   "name": "python3"
  },
  "language_info": {
   "codemirror_mode": {
    "name": "ipython",
    "version": 3
   },
   "file_extension": ".py",
   "mimetype": "text/x-python",
   "name": "python",
   "nbconvert_exporter": "python",
   "pygments_lexer": "ipython3",
   "version": "3.10.5"
  },
  "orig_nbformat": 4,
  "vscode": {
   "interpreter": {
    "hash": "aee8b7b246df8f9039afb4144a1f6fd8d2ca17a180786b69acc140d282b71a49"
   }
  }
 },
 "nbformat": 4,
 "nbformat_minor": 2
}
