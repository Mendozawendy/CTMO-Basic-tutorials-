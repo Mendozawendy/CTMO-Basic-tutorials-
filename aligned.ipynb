{
 "cells": [
  {
   "attachments": {},
   "cell_type": "markdown",
   "metadata": {},
   "source": [
    " Before you begin aligning, it's essential to check that your frames are well calibrated and reduced, and most importantly, plate-solved. If they're not, the program won't be able to understand the World Coordinate System (WCS), which are the coordinates of the frames."
   ]
  },
  {
   "cell_type": "code",
   "execution_count": 1,
   "metadata": {},
   "outputs": [],
   "source": [
    "#import packages\n",
    "from astropy.io import fits\n",
    "from astropy.wcs import WCS\n",
    "from reproject import reproject_interp\n",
    "import glob\n",
    "import os"
   ]
  },
  {
   "cell_type": "code",
   "execution_count": 3,
   "metadata": {},
   "outputs": [
    {
     "name": "stdout",
     "output_type": "stream",
     "text": [
      "['/Users/wendymendoza/Desktop/M101/2023.fits', '/Users/wendymendoza/Desktop/M101/2020.fits']\n"
     ]
    }
   ],
   "source": [
    "fits_files = glob.glob(\"/Users/wendymendoza/Desktop/M101/*.fits\")\n",
    "print(fits_files) "
   ]
  },
  {
   "cell_type": "code",
   "execution_count": 4,
   "metadata": {},
   "outputs": [
    {
     "name": "stderr",
     "output_type": "stream",
     "text": [
      "WARNING: FITSFixedWarning: 'datfix' made the change 'Set MJD-OBS to 60087.112106 from DATE-OBS'. [astropy.wcs.wcs]\n",
      "WARNING: FITSFixedWarning: 'datfix' made the change 'Set MJD-OBS to 59061.164907 from DATE-OBS'. [astropy.wcs.wcs]\n",
      "WARNING: FITSFixedWarning: 'datfix' made the change 'Set MJD-OBS to 60087.112106 from DATE-OBS'. [astropy.wcs.wcs]\n"
     ]
    }
   ],
   "source": [
    "def new_func():\n",
    "    reference_file = fits_files[0]\n",
    "    return reference_file\n",
    "\n",
    "reference_file = new_func()\n",
    "with fits.open(reference_file) as hdulist:\n",
    "    reference_header = hdulist[0].header\n",
    "\n",
    "for file in fits_files:\n",
    "    with fits.open(file) as hdulist:\n",
    "        wcs = WCS(hdulist[0].header)\n",
    "        data = hdulist[0].data\n",
    "        header = hdulist[0].header.copy()\n",
    "\n",
    "    reprojected_data, _ = reproject_interp((data, wcs), reference_header)\n",
    "    hdu = fits.PrimaryHDU(reprojected_data, header=header)\n",
    "    hdulist = fits.HDUList([hdu])\n",
    "    #Specify the location to save your aligned frames. \n",
    "    hdulist.writeto(\"/Users/wendymendoza/Desktop/M101\" + os.path.basename(file), overwrite=True)"
   ]
  }
 ],
 "metadata": {
  "kernelspec": {
   "display_name": "Python 3.10.5 64-bit",
   "language": "python",
   "name": "python3"
  },
  "language_info": {
   "codemirror_mode": {
    "name": "ipython",
    "version": 3
   },
   "file_extension": ".py",
   "mimetype": "text/x-python",
   "name": "python",
   "nbconvert_exporter": "python",
   "pygments_lexer": "ipython3",
   "version": "3.10.5"
  },
  "orig_nbformat": 4,
  "vscode": {
   "interpreter": {
    "hash": "aee8b7b246df8f9039afb4144a1f6fd8d2ca17a180786b69acc140d282b71a49"
   }
  }
 },
 "nbformat": 4,
 "nbformat_minor": 2
}
