{
 "cells": [
  {
   "cell_type": "markdown",
   "metadata": {},
   "source": [
    "Stacking fits for Beginners "
   ]
  },
  {
   "cell_type": "code",
   "execution_count": 1,
   "metadata": {},
   "outputs": [],
   "source": [
    "#Import the necesaary packages\n",
    "from astropy.io import fits \n",
    "import numpy as np \n"
   ]
  },
  {
   "cell_type": "code",
   "execution_count": 2,
   "metadata": {},
   "outputs": [],
   "source": [
    "#list the files name to stack \n",
    "file_names = ['/Users/wendymendoza/Desktop/wendy_data/2023-04-11/aligned_reduced-lights-002unf.fit','/Users/wendymendoza/Desktop/wendy_data/2023-04-11/aligned_reduced-lights-003unf.fit','/Users/wendymendoza/Desktop/wendy_data/2023-04-11/aligned_reduced-lights-004unf.fit','/Users/wendymendoza/Desktop/wendy_data/2023-04-11/aligned_reduced-lights-005unf.fit','/Users/wendymendoza/Desktop/wendy_data/2023-04-11/aligned_reduced-lights-006unf.fit','/Users/wendymendoza/Desktop/wendy_data/2023-04-11/aligned_reduced-lights-007unf.fit','/Users/wendymendoza/Desktop/wendy_data/2023-04-11/aligned_reduced-lights-008unf.fit','/Users/wendymendoza/Desktop/wendy_data/2023-04-11/aligned_reduced-lights-009unf.fit','/Users/wendymendoza/Desktop/wendy_data/2023-04-11/aligned_reduced-lights-010unf.fit','/Users/wendymendoza/Desktop/wendy_data/2023-04-11/aligned_reduced-lights-011unf.fit']"
   ]
  },
  {
   "cell_type": "code",
   "execution_count": 3,
   "metadata": {},
   "outputs": [],
   "source": [
    "#load the data from each file\n",
    "data = []\n",
    "for file_name in file_names:\n",
    "    with fits.open(file_name) as hdul:\n",
    "        data.append(hdul[0].data)"
   ]
  },
  {
   "cell_type": "code",
   "execution_count": 6,
   "metadata": {},
   "outputs": [],
   "source": [
    "# Stack the data using the mean function\n",
    "stacked_data = np.mean(data, axis=0)"
   ]
  },
  {
   "cell_type": "code",
   "execution_count": 7,
   "metadata": {},
   "outputs": [],
   "source": [
    "# Create a new header\n",
    "header = fits.Header()\n",
    "header['COMMENT'] = 'Stacked FITS file created by Python'"
   ]
  },
  {
   "cell_type": "code",
   "execution_count": 8,
   "metadata": {},
   "outputs": [],
   "source": [
    "# Create a new HDU with the stacked data and header\n",
    "hdu = fits.PrimaryHDU(data=stacked_data, header=header)"
   ]
  },
  {
   "cell_type": "code",
   "execution_count": 9,
   "metadata": {},
   "outputs": [],
   "source": [
    "# Write the new HDU to a new FITS file\n",
    "hdu.writeto('/Users/wendymendoza/Desktop/datastack/10ic803', overwrite=True)"
   ]
  },
  {
   "cell_type": "markdown",
   "metadata": {},
   "source": []
  },
  {
   "cell_type": "markdown",
   "metadata": {},
   "source": [
    "Stacking Fits (All fits files combine)"
   ]
  },
  {
   "cell_type": "code",
   "execution_count": 3,
   "metadata": {},
   "outputs": [],
   "source": [
    "from astropy.io import fits\n",
    "import numpy as np\n",
    "import glob"
   ]
  },
  {
   "cell_type": "code",
   "execution_count": 4,
   "metadata": {},
   "outputs": [],
   "source": [
    "# Define the directory containing the FITS files\n",
    "file_names = glob.glob('/Users/wendymendoza/Desktop/wendy_data/2023-04-11/NGC4676/*.fit')\n"
   ]
  },
  {
   "cell_type": "code",
   "execution_count": 5,
   "metadata": {},
   "outputs": [],
   "source": [
    "if not file_names:\n",
    "    print('No FITS files found in directory.')\n",
    "else:\n",
    "    # Load the FITS files\n",
    "    data = []\n",
    "    for file_name in file_names:\n",
    "        with fits.open(file_name) as hdul:\n",
    "            data.append(hdul[0].data)"
   ]
  },
  {
   "cell_type": "code",
   "execution_count": 6,
   "metadata": {},
   "outputs": [],
   "source": [
    "# Load the FITS files\n",
    "data = []\n",
    "for file_name in file_names:\n",
    "    with fits.open(file_name) as hdul:\n",
    "        data.append(hdul[0].data)"
   ]
  },
  {
   "cell_type": "code",
   "execution_count": 7,
   "metadata": {},
   "outputs": [],
   "source": [
    "# Stack the FITS files\n",
    "stacked_data = np.mean(data, axis=0)"
   ]
  },
  {
   "cell_type": "code",
   "execution_count": 8,
   "metadata": {},
   "outputs": [],
   "source": [
    "# Replace any nan values with a valid value (e.g. 0)\n",
    "stacked_data = np.nan_to_num(stacked_data, nan=0) "
   ]
  },
  {
   "cell_type": "code",
   "execution_count": null,
   "metadata": {},
   "outputs": [],
   "source": []
  },
  {
   "cell_type": "code",
   "execution_count": 9,
   "metadata": {},
   "outputs": [],
   "source": [
    "# Write the stacked data to a new FITS file\n",
    "header = fits.Header()\n",
    "header['COMMENT'] = 'Stacked FITS file created by Python'\n",
    "hdu = fits.PrimaryHDU(data=stacked_data, header=header)\n",
    "hdu.writeto('/Users/wendymendoza/Desktop/datastack/stacked_ngc4676.fits', overwrite=True)"
   ]
  },
  {
   "cell_type": "markdown",
   "metadata": {},
   "source": [
    "Choosing how many images you want to stack 5, 10, 20, 40 etc..."
   ]
  },
  {
   "cell_type": "code",
   "execution_count": 1,
   "metadata": {},
   "outputs": [],
   "source": [
    "from astropy.io import fits\n",
    "import numpy as np\n",
    "import glob"
   ]
  },
  {
   "cell_type": "code",
   "execution_count": 2,
   "metadata": {},
   "outputs": [],
   "source": [
    "# Define the directory containing the FITS files\n",
    "file_names = glob.glob('/Users/wendymendoza/Desktop/wendy_data/2023-04-11/*.fit')"
   ]
  },
  {
   "cell_type": "code",
   "execution_count": 3,
   "metadata": {},
   "outputs": [],
   "source": [
    "if not file_names:\n",
    "    print('No FITS files found in directory.')\n",
    "else:\n",
    "    # Load the first 20 FITS files\n",
    "    data = []\n",
    "    for file_name in file_names[:50]:  # Limit the number of files processed to for example: combining 20 fits\n",
    "        with fits.open(file_name) as hdul:\n",
    "            data.append(hdul[0].data)\n",
    "\n",
    "    # Stack the FITS files\n",
    "    stacked_data = np.mean(data, axis=0)\n",
    "\n",
    "    # Replace any nan values with a valid value (e.g. 0)\n",
    "    stacked_data = np.nan_to_num(stacked_data, nan=0)\n",
    "\n",
    "    # Write the stacked data to a new FITS file\n",
    "    header = fits.Header()\n",
    "    header['COMMENT'] = 'Stacked FITS file created by Python'\n",
    "    hdu = fits.PrimaryHDU(data=stacked_data, header=header)\n",
    "    hdu.writeto('/Users/wendymendoza/Desktop/datastack/stacked_50_ngc4676.fits', overwrite=True)"
   ]
  }
 ],
 "metadata": {
  "kernelspec": {
   "display_name": "Python 3.10.5 64-bit",
   "language": "python",
   "name": "python3"
  },
  "language_info": {
   "codemirror_mode": {
    "name": "ipython",
    "version": 3
   },
   "file_extension": ".py",
   "mimetype": "text/x-python",
   "name": "python",
   "nbconvert_exporter": "python",
   "pygments_lexer": "ipython3",
   "version": "3.10.5"
  },
  "orig_nbformat": 4,
  "vscode": {
   "interpreter": {
    "hash": "aee8b7b246df8f9039afb4144a1f6fd8d2ca17a180786b69acc140d282b71a49"
   }
  }
 },
 "nbformat": 4,
 "nbformat_minor": 2
}
