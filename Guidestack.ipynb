{
 "cells": [
  {
   "attachments": {},
   "cell_type": "markdown",
   "metadata": {},
   "source": [
    "This tutorial provides a beginner's guide to stacking FITS files in Python.\n",
    " Before you begin, ensure your frames are properly calibrated, aligned, and plate-solved. \n",
    " Without these preliminary steps, the stacking alignment may not yield optimal results. \n",
    " There are three different stacking tools you can use, based on your preference. \n",
    " The only prerequisite for these tools is a list of the filenames of the images you wish to stack.\n",
    "  One advantage of the final option is that it allows you to choose the number of FITS files you want to stack, \n",
    "  providing greater flexibility and control over your data processing."
   ]
  },
  {
   "attachments": {},
   "cell_type": "markdown",
   "metadata": {},
   "source": [
    "Stacking fits for Beginners 1 by 1 "
   ]
  },
  {
   "cell_type": "code",
   "execution_count": 1,
   "metadata": {},
   "outputs": [],
   "source": [
    "#Import the necesaary packages\n",
    "from astropy.io import fits \n",
    "import numpy as np \n"
   ]
  },
  {
   "cell_type": "code",
   "execution_count": 2,
   "metadata": {},
   "outputs": [],
   "source": [
    "#list the files name to stack \n",
    "file_names = ['/Users/wendymendoza/Desktop/wendy_data/2023-04-11/aligned_reduced-lights-002unf.fit','/Users/wendymendoza/Desktop/wendy_data/2023-04-11/aligned_reduced-lights-003unf.fit','/Users/wendymendoza/Desktop/wendy_data/2023-04-11/aligned_reduced-lights-004unf.fit','/Users/wendymendoza/Desktop/wendy_data/2023-04-11/aligned_reduced-lights-005unf.fit','/Users/wendymendoza/Desktop/wendy_data/2023-04-11/aligned_reduced-lights-006unf.fit','/Users/wendymendoza/Desktop/wendy_data/2023-04-11/aligned_reduced-lights-007unf.fit','/Users/wendymendoza/Desktop/wendy_data/2023-04-11/aligned_reduced-lights-008unf.fit','/Users/wendymendoza/Desktop/wendy_data/2023-04-11/aligned_reduced-lights-009unf.fit','/Users/wendymendoza/Desktop/wendy_data/2023-04-11/aligned_reduced-lights-010unf.fit','/Users/wendymendoza/Desktop/wendy_data/2023-04-11/aligned_reduced-lights-011unf.fit']"
   ]
  },
  {
   "cell_type": "code",
   "execution_count": 3,
   "metadata": {},
   "outputs": [],
   "source": [
    "#load the data from each file\n",
    "data = []\n",
    "header = None\n",
    "for file_name in file_names:\n",
    "    with fits.open(file_name) as hdul:\n",
    "        data.append(hdul[0].data)\n",
    "        if header is None:\n",
    "            header = hdul[0].header"
   ]
  },
  {
   "cell_type": "code",
   "execution_count": 4,
   "metadata": {},
   "outputs": [],
   "source": [
    "# Stack the data using the mean function\n",
    "stacked_data = np.mean(data, axis=0)"
   ]
  },
  {
   "cell_type": "code",
   "execution_count": 5,
   "metadata": {},
   "outputs": [],
   "source": [
    "# Comment on the existing header\n",
    "header['COMMENT'] = 'Stacked FITS file created by Python' "
   ]
  },
  {
   "cell_type": "code",
   "execution_count": 6,
   "metadata": {},
   "outputs": [],
   "source": [
    "# Create a new HDU with the stacked data and header\n",
    "hdu = fits.PrimaryHDU(data=stacked_data, header=header)"
   ]
  },
  {
   "cell_type": "code",
   "execution_count": null,
   "metadata": {},
   "outputs": [],
   "source": [
    "# Write the new HDU to a new FITS file\n",
    "hdu.writeto('/Users/wendymendoza/Desktop/datastack/10ic803', overwrite=True)"
   ]
  },
  {
   "attachments": {},
   "cell_type": "markdown",
   "metadata": {},
   "source": []
  },
  {
   "attachments": {},
   "cell_type": "markdown",
   "metadata": {},
   "source": [
    "Stacking Fits (All fits files combine)"
   ]
  },
  {
   "cell_type": "code",
   "execution_count": 1,
   "metadata": {},
   "outputs": [],
   "source": [
    "from astropy.io import fits\n",
    "import numpy as np\n",
    "import glob"
   ]
  },
  {
   "cell_type": "code",
   "execution_count": 2,
   "metadata": {},
   "outputs": [],
   "source": [
    "# Define the directory containing the FITS files\n",
    "file_names = glob.glob('/Users/wendymendoza/Desktop/2023-05-22/*.fit')\n"
   ]
  },
  {
   "cell_type": "code",
   "execution_count": 3,
   "metadata": {},
   "outputs": [],
   "source": [
    "if not file_names:\n",
    "    print('No FITS files found in directory.')\n",
    "else:\n",
    "    # Load the FITS files\n",
    "    data = []\n",
    "    header = None\n",
    "    for file_name in file_names:\n",
    "        with fits.open(file_name) as hdul:\n",
    "            data.append(hdul[0].data)\n",
    "            if header is None:\n",
    "                header = hdul[0].header\n",
    "\n",
    "    # Stack the FITS files\n",
    "    stacked_data = np.mean(data, axis=0) \n",
    "\n",
    "    # Replace any nan values with a valid value (e.g. 0)\n",
    "    stacked_data = np.nan_to_num(stacked_data, nan=0) \n",
    "\n",
    "    # Comment on the existing header\n",
    "    header['COMMENT'] = 'Stacked FITS file created by Python'\n",
    "\n",
    "    # Write the stacked data to a new FITS file using the existing header\n",
    "    hdu = fits.PrimaryHDU(data=stacked_data, header=header)\n",
    "    hdu.writeto('/Users/wendymendoza/Desktop/stack1', overwrite=True)"
   ]
  },
  {
   "attachments": {},
   "cell_type": "markdown",
   "metadata": {},
   "source": [
    "Choosing how many images you want to stack 5, 10, 20, 40 etc..."
   ]
  },
  {
   "cell_type": "code",
   "execution_count": 4,
   "metadata": {},
   "outputs": [],
   "source": [
    "from astropy.io import fits\n",
    "import numpy as np\n",
    "import glob"
   ]
  },
  {
   "cell_type": "code",
   "execution_count": 5,
   "metadata": {},
   "outputs": [],
   "source": [
    "# Define the directory containing the FITS files\n",
    "file_names = glob.glob('/Users/wendymendoza/Desktop/2023-05-22/*.fit')"
   ]
  },
  {
   "cell_type": "code",
   "execution_count": 6,
   "metadata": {},
   "outputs": [],
   "source": [
    "if not file_names:\n",
    "    print('No FITS files found in directory.')\n",
    "else:\n",
    "    # Load the first # FITS files\n",
    "    data = []\n",
    "    for idx, file_name in enumerate(file_names[:40]):  # Limit the number of files processed to for example: combining # fits\n",
    "        with fits.open(file_name) as hdul:\n",
    "            data.append(hdul[0].data)\n",
    "\n",
    "            # Save the header of the first FITS file\n",
    "            if idx == 0:\n",
    "                original_header = hdul[0].header\n",
    "\n",
    "    # Stack the FITS files\n",
    "    stacked_data = np.mean(data, axis=0)\n",
    "\n",
    "    # Replace any nan values with a valid value (e.g. 0)\n",
    "    stacked_data = np.nan_to_num(stacked_data, nan=0)\n",
    "\n",
    "    # Write the stacked data to a new FITS file using the original header\n",
    "    hdu = fits.PrimaryHDU(data=stacked_data, header=original_header)\n",
    "    hdu.writeto('/Users/wendymendoza/Desktop/stacked_40.fits', overwrite=True)"
   ]
  }
 ],
 "metadata": {
  "kernelspec": {
   "display_name": "Python 3.10.5 64-bit",
   "language": "python",
   "name": "python3"
  },
  "language_info": {
   "codemirror_mode": {
    "name": "ipython",
    "version": 3
   },
   "file_extension": ".py",
   "mimetype": "text/x-python",
   "name": "python",
   "nbconvert_exporter": "python",
   "pygments_lexer": "ipython3",
   "version": "3.10.5"
  },
  "orig_nbformat": 4,
  "vscode": {
   "interpreter": {
    "hash": "aee8b7b246df8f9039afb4144a1f6fd8d2ca17a180786b69acc140d282b71a49"
   }
  }
 },
 "nbformat": 4,
 "nbformat_minor": 2
}
