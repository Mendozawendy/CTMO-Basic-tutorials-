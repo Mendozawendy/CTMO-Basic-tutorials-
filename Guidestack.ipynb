{
 "cells": [
  {
   "cell_type": "markdown",
   "metadata": {},
   "source": [
    "Stacking fits for Beginners "
   ]
  },
  {
   "cell_type": "code",
   "execution_count": 5,
   "metadata": {},
   "outputs": [],
   "source": [
    "#Import the necesaary packages\n",
    "from astropy.io import fits \n",
    "import numpy as np \n"
   ]
  },
  {
   "cell_type": "code",
   "execution_count": 6,
   "metadata": {},
   "outputs": [],
   "source": [
    "#list the files name to stack \n",
    "file_names = ['/Users/wendymendoza/Desktop/2023-03-23/M87/lights/aligned/aligned_reduced-20230323_lights-001-unf.fit', '/Users/wendymendoza/Desktop/2023-03-23/M87/lights/aligned/aligned_reduced-20230323_lights-002-unf.fit', '/Users/wendymendoza/Desktop/2023-03-23/M87/lights/aligned/aligned_reduced-20230323_lights-010-unf.fit','/Users/wendymendoza/Desktop/2023-03-23/M87/lights/aligned/aligned_reduced-20230323_lights-011-unf.fit','/Users/wendymendoza/Desktop/2023-03-23/M87/lights/aligned/aligned_reduced-20230323_lights-027-unf.fit'] "
   ]
  },
  {
   "cell_type": "code",
   "execution_count": 7,
   "metadata": {},
   "outputs": [],
   "source": [
    "#load the data from each file\n",
    "data = []\n",
    "for file_name in file_names:\n",
    "    with fits.open(file_name) as hdul:\n",
    "        data.append(hdul[0].data)"
   ]
  },
  {
   "cell_type": "code",
   "execution_count": 8,
   "metadata": {},
   "outputs": [],
   "source": [
    "# Stack the data using the mean function\n",
    "stacked_data = np.mean(data, axis=0)"
   ]
  },
  {
   "cell_type": "code",
   "execution_count": 9,
   "metadata": {},
   "outputs": [],
   "source": [
    "# Create a new header\n",
    "header = fits.Header()\n",
    "header['COMMENT'] = 'Stacked FITS file created by Python'"
   ]
  },
  {
   "cell_type": "code",
   "execution_count": 10,
   "metadata": {},
   "outputs": [],
   "source": [
    "# Create a new HDU with the stacked data and header\n",
    "hdu = fits.PrimaryHDU(data=stacked_data, header=header)"
   ]
  },
  {
   "cell_type": "code",
   "execution_count": 11,
   "metadata": {},
   "outputs": [],
   "source": [
    "# Write the new HDU to a new FITS file\n",
    "hdu.writeto('/Users/wendymendoza/Desktop/stacked_M87_unf.fits', overwrite=True)"
   ]
  },
  {
   "cell_type": "markdown",
   "metadata": {},
   "source": [
    "Stacking Fits (All fits files combine)"
   ]
  },
  {
   "cell_type": "code",
   "execution_count": 2,
   "metadata": {},
   "outputs": [],
   "source": [
    "from astropy.io import fits\n",
    "import numpy as np\n",
    "import glob"
   ]
  },
  {
   "cell_type": "code",
   "execution_count": 10,
   "metadata": {},
   "outputs": [],
   "source": [
    "# Define the directory containing the FITS files\n",
    "file_names = glob.glob('/Users/wendymendoza/Desktop/2023-03-23/M87/lights/aligned/*.fit')\n"
   ]
  },
  {
   "cell_type": "code",
   "execution_count": 11,
   "metadata": {},
   "outputs": [],
   "source": [
    "if not file_names:\n",
    "    print('No FITS files found in directory.')\n",
    "else:\n",
    "    # Load the FITS files\n",
    "    data = []\n",
    "    for file_name in file_names:\n",
    "        with fits.open(file_name) as hdul:\n",
    "            data.append(hdul[0].data)"
   ]
  },
  {
   "cell_type": "code",
   "execution_count": 12,
   "metadata": {},
   "outputs": [],
   "source": [
    "# Load the FITS files\n",
    "data = []\n",
    "for file_name in file_names:\n",
    "    with fits.open(file_name) as hdul:\n",
    "        data.append(hdul[0].data)"
   ]
  },
  {
   "cell_type": "code",
   "execution_count": 13,
   "metadata": {},
   "outputs": [],
   "source": [
    "# Stack the FITS files\n",
    "stacked_data = np.mean(data, axis=0)"
   ]
  },
  {
   "cell_type": "code",
   "execution_count": 14,
   "metadata": {},
   "outputs": [],
   "source": [
    "# Replace any nan values with a valid value (e.g. 0)\n",
    "stacked_data = np.nan_to_num(stacked_data, nan=0)"
   ]
  },
  {
   "cell_type": "code",
   "execution_count": 15,
   "metadata": {},
   "outputs": [],
   "source": [
    "# Write the stacked data to a new FITS file\n",
    "header = fits.Header()\n",
    "header['COMMENT'] = 'Stacked FITS file created by Python'\n",
    "hdu = fits.PrimaryHDU(data=stacked_data, header=header)\n",
    "hdu.writeto('/Users/wendymendoza/Desktop/stacked_M87.fits', overwrite=True)"
   ]
  }
 ],
 "metadata": {
  "kernelspec": {
   "display_name": "Python 3.10.5 64-bit",
   "language": "python",
   "name": "python3"
  },
  "language_info": {
   "codemirror_mode": {
    "name": "ipython",
    "version": 3
   },
   "file_extension": ".py",
   "mimetype": "text/x-python",
   "name": "python",
   "nbconvert_exporter": "python",
   "pygments_lexer": "ipython3",
   "version": "3.10.5"
  },
  "orig_nbformat": 4,
  "vscode": {
   "interpreter": {
    "hash": "aee8b7b246df8f9039afb4144a1f6fd8d2ca17a180786b69acc140d282b71a49"
   }
  }
 },
 "nbformat": 4,
 "nbformat_minor": 2
}
